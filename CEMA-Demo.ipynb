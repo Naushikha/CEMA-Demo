{
 "cells": [
  {
   "cell_type": "code",
   "execution_count": 1,
   "metadata": {},
   "outputs": [],
   "source": [
    "import numpy as np\n",
    "import cema"
   ]
  },
  {
   "cell_type": "markdown",
   "metadata": {},
   "source": [
    "### Generate the key and plain texts"
   ]
  },
  {
   "cell_type": "code",
   "execution_count": 2,
   "metadata": {},
   "outputs": [
    {
     "name": "stdout",
     "output_type": "stream",
     "text": [
      "Real key =  [118 118 119 226]\n"
     ]
    }
   ],
   "source": [
    "keyLength=4 # 16-bytes, 128-bits\n",
    "numPlainTexts=10\n",
    "\n",
    "realKey = np.random.randint(256, size=keyLength)\n",
    "print(\"Real key = \", realKey)\n",
    "\n",
    "plainTexts = cema.genPlainTexts(keyLength, numPlainTexts)\n",
    "#print(plainTexts.tolist())\n",
    "#print(plainTexts)"
   ]
  },
  {
   "cell_type": "markdown",
   "metadata": {},
   "source": [
    "### Need a hypothesis matrix per each key byte\n",
    "- if the key length is 4 bytes, we need 4 hypothesis matrices"
   ]
  },
  {
   "cell_type": "code",
   "execution_count": 3,
   "metadata": {},
   "outputs": [
    {
     "name": "stdout",
     "output_type": "stream",
     "text": [
      "[[6 4 7 ... 2 5 6]\n",
      " [5 3 6 ... 1 6 5]\n",
      " [7 5 6 ... 3 4 7]\n",
      " ...\n",
      " [1 3 2 ... 5 4 1]\n",
      " [3 5 2 ... 7 2 3]\n",
      " [2 4 1 ... 6 3 2]]\n"
     ]
    }
   ],
   "source": [
    "\n",
    "H1 = cema.genHypoMatrix(plainTexts, 0)\n",
    "print(H1)\n",
    "H2 = cema.genHypoMatrix(plainTexts, 1)\n",
    "#print(H2)\n",
    "H3 = cema.genHypoMatrix(plainTexts, 2)\n",
    "#print(H3)\n",
    "H4 = cema.genHypoMatrix(plainTexts, 3)\n",
    "#print(H4)"
   ]
  },
  {
   "cell_type": "code",
   "execution_count": 4,
   "metadata": {},
   "outputs": [
    {
     "ename": "ValueError",
     "evalue": "cannot reshape array of size 4 into shape (0,8)",
     "output_type": "error",
     "traceback": [
      "\u001b[0;31m---------------------------------------------------------------------------\u001b[0m",
      "\u001b[0;31mValueError\u001b[0m                                Traceback (most recent call last)",
      "\u001b[0;32m<ipython-input-4-4f7d9a942cf5>\u001b[0m in \u001b[0;36m<module>\u001b[0;34m()\u001b[0m\n\u001b[0;32m----> 1\u001b[0;31m \u001b[0mhexValue\u001b[0m \u001b[0;34m=\u001b[0m \u001b[0mcema\u001b[0m\u001b[0;34m.\u001b[0m\u001b[0mgetHexFromBitList\u001b[0m\u001b[0;34m(\u001b[0m\u001b[0mplainTexts\u001b[0m\u001b[0;34m.\u001b[0m\u001b[0mtolist\u001b[0m\u001b[0;34m(\u001b[0m\u001b[0;34m)\u001b[0m\u001b[0;34m[\u001b[0m\u001b[0;36m0\u001b[0m\u001b[0;34m]\u001b[0m\u001b[0;34m)\u001b[0m\u001b[0;34m\u001b[0m\u001b[0m\n\u001b[0m\u001b[1;32m      2\u001b[0m \u001b[0mprint\u001b[0m\u001b[0;34m(\u001b[0m\u001b[0mhexValue\u001b[0m\u001b[0;34m)\u001b[0m\u001b[0;34m\u001b[0m\u001b[0m\n\u001b[1;32m      3\u001b[0m \u001b[0mhexValue\u001b[0m \u001b[0;34m=\u001b[0m \u001b[0mcema\u001b[0m\u001b[0;34m.\u001b[0m\u001b[0mgetHexFromBitList\u001b[0m\u001b[0;34m(\u001b[0m\u001b[0mplainTexts\u001b[0m\u001b[0;34m.\u001b[0m\u001b[0mtolist\u001b[0m\u001b[0;34m(\u001b[0m\u001b[0;34m)\u001b[0m\u001b[0;34m[\u001b[0m\u001b[0;36m1\u001b[0m\u001b[0;34m]\u001b[0m\u001b[0;34m)\u001b[0m\u001b[0;34m\u001b[0m\u001b[0m\n\u001b[1;32m      4\u001b[0m \u001b[0mprint\u001b[0m\u001b[0;34m(\u001b[0m\u001b[0mhexValue\u001b[0m\u001b[0;34m)\u001b[0m\u001b[0;34m\u001b[0m\u001b[0m\n",
      "\u001b[0;32m~/Downloads/workspace-2019-03-04/cema.py\u001b[0m in \u001b[0;36mgetHexFromBitList\u001b[0;34m(bitsList)\u001b[0m\n\u001b[1;32m     70\u001b[0m     \u001b[0;31m# reshaping the 1D array to a Nx8 matrix\u001b[0m\u001b[0;34m\u001b[0m\u001b[0;34m\u001b[0m\u001b[0m\n\u001b[1;32m     71\u001b[0m     \u001b[0mnumBytes\u001b[0m \u001b[0;34m=\u001b[0m \u001b[0mint\u001b[0m\u001b[0;34m(\u001b[0m\u001b[0mlen\u001b[0m\u001b[0;34m(\u001b[0m\u001b[0mbits\u001b[0m\u001b[0;34m)\u001b[0m\u001b[0;34m/\u001b[0m\u001b[0;36m8\u001b[0m\u001b[0;34m)\u001b[0m\u001b[0;34m\u001b[0m\u001b[0m\n\u001b[0;32m---> 72\u001b[0;31m     \u001b[0mbits\u001b[0m \u001b[0;34m=\u001b[0m \u001b[0mbits\u001b[0m\u001b[0;34m.\u001b[0m\u001b[0mreshape\u001b[0m\u001b[0;34m(\u001b[0m\u001b[0;34m(\u001b[0m\u001b[0mnumBytes\u001b[0m\u001b[0;34m,\u001b[0m \u001b[0;36m8\u001b[0m\u001b[0;34m)\u001b[0m\u001b[0;34m)\u001b[0m\u001b[0;34m\u001b[0m\u001b[0m\n\u001b[0m\u001b[1;32m     73\u001b[0m \u001b[0;34m\u001b[0m\u001b[0m\n\u001b[1;32m     74\u001b[0m     \u001b[0;31m# the variable to contain final hex string\u001b[0m\u001b[0;34m\u001b[0m\u001b[0;34m\u001b[0m\u001b[0m\n",
      "\u001b[0;31mValueError\u001b[0m: cannot reshape array of size 4 into shape (0,8)"
     ]
    }
   ],
   "source": [
    "hexValue = cema.getHexFromBitList(plainTexts.tolist()[0])\n",
    "print(hexValue)\n",
    "hexValue = cema.getHexFromBitList(plainTexts.tolist()[1])\n",
    "print(hexValue)"
   ]
  },
  {
   "cell_type": "markdown",
   "metadata": {},
   "source": [
    "### Generate dummy EM traces for testing"
   ]
  },
  {
   "cell_type": "code",
   "execution_count": 5,
   "metadata": {},
   "outputs": [
    {
     "name": "stdout",
     "output_type": "stream",
     "text": [
      "[[5 5 4 6 3 6 6 7 2 5]\n",
      " [5 4 6 5 1 2 4 4 3 3]\n",
      " [4 2 4 4 6 2 3 4 4 3]\n",
      " [3 5 5 1 4 5 5 2 2 5]]\n"
     ]
    }
   ],
   "source": [
    "traceDuration=keyLength # since key length/plaintext length is 4, trace length is set to the same for time being\n",
    "\n",
    "traceMatrix = cema.genEMTraces(realKey, plainTexts, traceDuration)\n",
    "print(traceMatrix)"
   ]
  },
  {
   "cell_type": "markdown",
   "metadata": {},
   "source": [
    "### Recovering the key"
   ]
  },
  {
   "cell_type": "code",
   "execution_count": 6,
   "metadata": {},
   "outputs": [
    {
     "name": "stdout",
     "output_type": "stream",
     "text": [
      "Real key =  [118 118 119 226]\n",
      "Guessed key =  [118, 118, 119, 226]\n"
     ]
    }
   ],
   "source": [
    "C1 = cema.buildCorrelationMatrix(H1, traceMatrix)\n",
    "(keyByte1, byteIndex) = np.unravel_index(C1.argmax(), C1.shape)\n",
    "\n",
    "C2 = cema.buildCorrelationMatrix(H2, traceMatrix)\n",
    "(keyByte2, byteIndex) = np.unravel_index(C2.argmax(), C2.shape)\n",
    "\n",
    "C3 = cema.buildCorrelationMatrix(H3, traceMatrix)\n",
    "(keyByte3, byteIndex) = np.unravel_index(C3.argmax(), C3.shape)\n",
    "\n",
    "C4 = cema.buildCorrelationMatrix(H4, traceMatrix)\n",
    "(keyByte4, byteIndex) = np.unravel_index(C4.argmax(), C4.shape)\n",
    "\n",
    "guessedKey = [keyByte1, keyByte2, keyByte3, keyByte4]\n",
    "\n",
    "print(\"Real key = \", realKey)\n",
    "print(\"Guessed key = \", guessedKey)"
   ]
  },
  {
   "cell_type": "code",
   "execution_count": null,
   "metadata": {},
   "outputs": [],
   "source": []
  }
 ],
 "metadata": {
  "kernelspec": {
   "display_name": "Python 3",
   "language": "python",
   "name": "python3"
  },
  "language_info": {
   "codemirror_mode": {
    "name": "ipython",
    "version": 3
   },
   "file_extension": ".py",
   "mimetype": "text/x-python",
   "name": "python",
   "nbconvert_exporter": "python",
   "pygments_lexer": "ipython3",
   "version": "3.7.0"
  }
 },
 "nbformat": 4,
 "nbformat_minor": 2
}
